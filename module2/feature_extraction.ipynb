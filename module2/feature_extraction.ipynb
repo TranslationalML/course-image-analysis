{
 "cells": [
  {
   "cell_type": "markdown",
   "metadata": {},
   "source": [
    "# Feature extraction\n",
    "\n",
    "This part of the course is about detecting features like edges, lines, circles, and blobs from images.\n",
    "\n",
    "Many biological objects (cells, bacteria, bacilli, etc.) can be approximated by simple shapes and detected this way.\n",
    "\n",
    "While deep learning approaches typically outperform the classical approaches presented here, they are still part of most image processing pipelines, and complement deep learning techniques either as pre-processing or post-processing.\n",
    "\n",
    "Run the code making sure you understand the syntax. Complete the parts marked **TODO** either in the text or in the code.\n",
    "\n",
    "Don't hesitate to re-use what you learned in previous notebooks (filtering, morphological operations etc) to improve your results!"
   ]
  },
  {
   "cell_type": "markdown",
   "metadata": {},
   "source": [
    "## Setup\n",
    "\n",
    "First, we need to import some packages so that their functions are available to us."
   ]
  },
  {
   "cell_type": "code",
   "execution_count": null,
   "metadata": {},
   "outputs": [],
   "source": [
    "import os                       # operating system operations like file paths etc\n",
    "import numpy as np              # multidimensional arrays, linear algebra\n",
    "from skimage import io          # to load and save data\n",
    "from skimage import color       # color conversion utilities\n",
    "from skimage import segmentation\n",
    "from skimage.util import invert   # invert an image (if binary, black->white, white->black)\n",
    "from skimage.filters import threshold_otsu, sobel, sobel_v, sobel_h, laplace # image processing filters\n",
    "from skimage.feature import canny # edge detector\n",
    "\n",
    "from skimage.transform import hough_circle, hough_circle_peaks, hough_line, hough_line_peaks # Hough transform\n",
    "from skimage.feature import blob_log # Laplacian of Gaussian\n",
    "\n",
    "import matplotlib.pyplot as plt # plotting\n",
    "\n",
    "\n",
    "path_to_images= './data'    # Local: where the images are relative to this notebook\n",
    "#path_to_images= os.path.join('Module2','data')    # Nuvolos: where the images are relative to this notebook"
   ]
  },
  {
   "cell_type": "markdown",
   "metadata": {},
   "source": [
    "## Data loading and exploration\n",
    "\n",
    "Let's start with our previous neuroblastoma image."
   ]
  },
  {
   "cell_type": "code",
   "execution_count": null,
   "metadata": {},
   "outputs": [],
   "source": [
    "# Load and normalize the neuroblastoma image\n",
    "image_file = os.path.join(path_to_images, 'neuroblastoma_5_orig_small.jpg')\n",
    "img = io.imread(image_file)\n",
    "img = img/np.max(img) # normalize the image to [0,1]\n",
    "print(f'Image has shape {img.shape}')\n",
    "\n",
    "# Display the image\n",
    "plt.figure()\n",
    "io.imshow(img)\n",
    "plt.title('Original image')"
   ]
  },
  {
   "cell_type": "markdown",
   "metadata": {},
   "source": [
    "## First order approaches\n",
    "\n",
    "### Edge detection\n",
    "\n",
    "Edge detections allows us to find regions of the image with sharp contrast, that is where dark rapidly becomes bright and vice-versa. These edges may not correspond to human perception.\n",
    "\n",
    "#### Sobel operator\n",
    "\n",
    "A basic approach is to use a Sobel operator, open and read the documentation in scikit-image\n",
    "- <https://scikit-image.org/docs/stable/api/skimage.filters.html#skimage.filters.sobel>\n",
    "\n",
    "We briefly show its appearance since it is helpful in understanding the practical implementation of the Canny edge detector."
   ]
  },
  {
   "cell_type": "code",
   "execution_count": null,
   "metadata": {},
   "outputs": [],
   "source": [
    "\"\"\" \n",
    "Sobel operator on neuroblastoma image\n",
    "\"\"\"\n",
    "\n",
    "# Detect edges using Sobel operator edge detector\n",
    "edges_sobel = sobel(img)\n",
    "\n",
    "# threshold the edges map with Otsu's method\n",
    "thresh = threshold_otsu(edges_sobel)\n",
    "edges_sobel_bin = edges_sobel > thresh\n",
    "\n",
    "# Display the original image, the Sobel the detected edges side by side\n",
    "fig, axes = plt.subplots(1, 3, figsize=(14, 7))\n",
    "axes[0].imshow(img, cmap='gray')\n",
    "axes[0].set_title('Original Image')\n",
    "axes[0].axis('off')\n",
    "axes[1].imshow(edges_sobel, cmap='gray')\n",
    "axes[1].set_title('Sobel operator')\n",
    "axes[1].axis('off')\n",
    "axes[2].imshow(edges_sobel_bin)\n",
    "axes[2].set_title('Binarised edges')\n",
    "axes[2].axis('off')\n",
    "\n",
    "plt.show()\n",
    "\n",
    "\n",
    "# compute gradient magnitude and direction\n",
    "edges_sobel_h = sobel_h(img)\n",
    "edges_sobel_v = sobel_v(img)\n",
    "grad_mag = np.sqrt(edges_sobel_h**2 + edges_sobel_v**2) # same as sobel(img)\n",
    "grad_dir = np.arctan2(edges_sobel_v,edges_sobel_h) # angle in radians\n",
    "\n",
    "fig, axes = plt.subplots(1, 2, figsize=(14, 7))\n",
    "axes[0].imshow(grad_mag, cmap='gray')\n",
    "axes[0].set_title('Gradient magnitude')\n",
    "axes[0].axis('off')\n",
    "axes[1].imshow(grad_dir, cmap='hot')\n",
    "axes[1].set_title('Gradient direction')\n",
    "axes[1].axis('off')\n",
    "\n",
    "fig.colorbar(axes[1].imshow(grad_dir, cmap='jet'), ax=axes[1],fraction=0.04, pad=0.05)\n",
    "\n",
    "\n"
   ]
  },
  {
   "cell_type": "markdown",
   "metadata": {},
   "source": [
    "#### Canny edge detector\n",
    "\n",
    "An improved approach and commonly used algorithm is the Canny detector, open and read the documentation in scikit-image\n",
    "- <https://scikit-image.org/docs/stable/api/skimage.feature.html#skimage.feature.canny>"
   ]
  },
  {
   "cell_type": "code",
   "execution_count": null,
   "metadata": {},
   "outputs": [],
   "source": [
    "\"\"\" \n",
    "Edge detection for neuroblastoma image\n",
    "\"\"\"\n",
    "\n",
    "# Detect edges using Canny edge detector\n",
    "edges = canny(img, sigma=1.0, low_threshold=0.1, high_threshold=0.2)\n",
    "\n",
    "# create an overlay of the edges on the original image\n",
    "edges_overlay = segmentation.mark_boundaries(img, np.array(edges,dtype=np.uint8), mode='thick')\n",
    "\n",
    "# Display the original image and the detected edges side by side\n",
    "fig, axes = plt.subplots(1, 3, figsize=(14, 7))\n",
    "axes[0].imshow(img, cmap='gray')\n",
    "axes[0].set_title('Original Image')\n",
    "axes[0].axis('off')\n",
    "axes[1].imshow(edges, cmap='gray')\n",
    "axes[1].set_title('Detected Edges')\n",
    "axes[1].axis('off')\n",
    "axes[2].imshow(edges_overlay)\n",
    "axes[2].set_title('Edges overlay')\n",
    "axes[2].axis('off')\n",
    "\n",
    "plt.show()\n",
    "\n",
    "\n",
    "\n"
   ]
  },
  {
   "cell_type": "markdown",
   "metadata": {},
   "source": [
    "**TODO** Experiment with the smoothing kernel size (Gaussian filter standard deviation), modifying from the default value of 1. try 0.5, 2, 3... what yields the best results according to you?\n",
    "\n",
    "**TODO** Also experiment with the high and low thresholds.\n",
    "\n",
    "Keep these settings as we will use your edges below to try and locate circles."
   ]
  },
  {
   "cell_type": "markdown",
   "metadata": {},
   "source": [
    "## Hough transform\n",
    "\n",
    "The Hough transform is a fast and efficient approach to detecting lines, circles, and ellipses. \n",
    "\n",
    "It works well when the image is relatively noise-free, which is why we often run it on edge images.\n",
    "\n",
    "### Hough transform for circles\n",
    "\n",
    "Here we can approximate cells by circles, and we would like to localise each individual cell.\n",
    "\n",
    "Open and read the scikit-image documentation for these two functions:\n",
    "- <https://scikit-image.org/docs/stable/api/skimage.transform.html#skimage.transform.hough_circle>\n",
    "- <https://scikit-image.org/docs/stable/api/skimage.transform.html#skimage.transform.hough_circle_peaks>"
   ]
  },
  {
   "cell_type": "code",
   "execution_count": null,
   "metadata": {},
   "outputs": [],
   "source": [
    "\"\"\" \n",
    "Hough transform for circle for cell detection in neuroblastoma image\n",
    "\"\"\"\n",
    "\n",
    "# Define the range of radii to search for circles\n",
    "# This is a great way to input domain knowledge - how big are the cells you want to find (in pixels)?\n",
    "# Refer to the first visualisation of the image which has axis ticks to get an idea of the size of the cells\n",
    "min_radius = 20\n",
    "max_radius = 50\n",
    "\n",
    "# define the separation between circles - how far apart are cells (in pixels)?\n",
    "# Refer to the first visualisation of the image which has axis ticks to get an idea of the separation of the cells\n",
    "min_xdistance=20\n",
    "min_ydistance=20\n",
    "\n",
    "# Apply the Hough transform on the edges image to detect circles\n",
    "hough_radii = np.arange(min_radius, max_radius + 1)\n",
    "hough_res = hough_circle(edges, hough_radii)\n",
    "\n",
    "# Find the most prominent circles\n",
    "accums, cx, cy, radii = hough_circle_peaks(hough_res, hough_radii,\n",
    "                                           min_xdistance=min_xdistance, min_ydistance=min_ydistance,\n",
    "                                           total_num_peaks=20)\n",
    "n_circles=radii.shape[0]\n",
    "print(f'Detected {n_circles} circles')\n",
    "\n",
    "\n",
    "# Display the original image with detected circles in different colors\n",
    "cm=plt.cm.jet # get a colormap\n",
    "fig, ax = plt.subplots()\n",
    "ax.imshow(img, cmap='gray')\n",
    "\n",
    "for i, (center_y, center_x, radius) in enumerate(zip(cy, cx, radii)):\n",
    "    circle = plt.Circle((center_x, center_y), radius, color=cm(i/(n_circles-2)), fill=False)\n",
    "    ax.add_patch(circle)\n",
    "\n",
    "plt.title(f'Detected {n_circles} Circles')\n",
    "plt.axis('off')\n",
    "plt.show()\n"
   ]
  },
  {
   "cell_type": "markdown",
   "metadata": {},
   "source": [
    "**TODO** Experiment with cell sizes (`min_radius`, `max_radius`), cell separation (`min_xdistance`,`min_ydistance`) and max number of peaks (`total_num_peaks`), \n",
    "Can you get all cells detected (high true positive rate), and only one circle per cell (low false positive rate) ? \n",
    "\n",
    "Remember that you are operating on the Canny edge image, so you may need to revisit the Gaussian filter standard deviation above."
   ]
  },
  {
   "cell_type": "markdown",
   "metadata": {},
   "source": [
    "### Hough transform for lines\n",
    "\n",
    "Here we are trying to approximately count the number of gram-positive bacilli from a gram staining image. Since the bacilli are linear, we can look for lines in the image using a Hough transform. \n",
    "\n",
    "Note that this approach is for didactic purposes, there are better methods to perform this kind of analysis.\n",
    "\n",
    "We will use the scikit-image implementation. The two functions you need (read the docs!) are\n",
    "- <https://scikit-image.org/docs/stable/api/skimage.transform.html#skimage.transform.hough_line>\n",
    "- <https://scikit-image.org/docs/stable/api/skimage.transform.html#skimage.transform.hough_line_peaks>"
   ]
  },
  {
   "cell_type": "code",
   "execution_count": null,
   "metadata": {},
   "outputs": [],
   "source": [
    "# Load and normalize the Gram stain image\n",
    "image_file = os.path.join(path_to_images, 'gram_negative_bacilli_crop.png')\n",
    "img = io.imread(image_file)\n",
    "img = color.rgb2gray(img) # convert to grayscale\n",
    "img = img/np.max(img) # normalize the image to [0,1]\n",
    "print(f'Image has shape {img.shape}')\n",
    "\n",
    "# Display the image\n",
    "plt.figure()\n",
    "io.imshow(img)\n",
    "\n",
    "plt.title('Original image')"
   ]
  },
  {
   "cell_type": "code",
   "execution_count": null,
   "metadata": {},
   "outputs": [],
   "source": [
    "\"\"\"\n",
    "Line Hough transform to detect bacilli (adapted from skimage doc)\n",
    "\"\"\"\n",
    "\n",
    "# First detect edges to make our life easier - Hough transform is sensitive to noise\n",
    "edges=canny(img, sigma=1)\n",
    "\n",
    "# Define the range of angles to search for lines. If we have a priori information about the orientation of the lines\n",
    "# we are interested in, we could restrict the search range\n",
    "search_angles = np.linspace(-np.pi / 2, np.pi / 2, 360, endpoint=False)\n",
    "\n",
    "# Run the Hough transform\n",
    "houghspace, houghangles, houghdistances = hough_line(edges, theta=search_angles)\n",
    "\n",
    "# Find the most prominent lines\n",
    "peaks = hough_line_peaks(houghspace, houghangles, houghdistances, min_distance=20,min_angle=20)\n",
    "n_peaks=len(peaks[0])\n",
    "print(f'Found {n_peaks} lines')\n",
    "\n",
    "# Overlay the detected lines on the image\n",
    "fig, axes = plt.subplots(1, 3, figsize=(12, 6))\n",
    "ax = axes.ravel()\n",
    "\n",
    "ax[0].imshow(img, cmap='gray')\n",
    "ax[0].set_title('Original')\n",
    "ax[0].set_axis_off()\n",
    "\n",
    "ax[1].imshow(edges, cmap='gray')\n",
    "ax[1].set_title('Canny edges')\n",
    "ax[1].set_axis_off()\n",
    "\n",
    "ax[2].imshow(img,cmap='gray')\n",
    "ax[2].set_xlim((0,img.shape[1]))\n",
    "ax[2].set_ylim((img.shape[0], 0))\n",
    "ax[2].set_axis_off()\n",
    "ax[2].set_title('Detected lines')\n",
    "\n",
    "for i, (_, angle, dist) in enumerate(zip(*peaks)):\n",
    "    (x0, y0) = dist * np.array([np.cos(angle), np.sin(angle)])\n",
    "    ax[2].axline((x0, y0), slope=np.tan(angle + np.pi / 2), color=cm(i/(n_peaks-2)))\n",
    "\n",
    "plt.show()\n"
   ]
  },
  {
   "cell_type": "markdown",
   "metadata": {},
   "source": [
    "Your goal is to get a count of the bacilli. The true value is probably 8. Here we approximate the number of bacilli found by the number of lines detected. Again, this is not a robust approach in real life.\n",
    "\n",
    "\n",
    "**TODO** Play with the `min_distance` and `min_angle` of the `hough_line_peaks` function. Can you improve upon the initial setting of 20 and 20? \n",
    "\n",
    "**TODO** Play with the Canny edge detector parameters, in particular Gaussian filter standard deviation. What gives you the cleanest edges?\n",
    "\n",
    "**TODO** What is the impact of the resolution of the search angles?\n",
    "\n",
    "**TODO** The two bacilli in the south-west corner of the image have a thinner midsection. Can you run morphological operations to try and fill them ? Does that improve or worsen the Hough transform results?\n",
    "\n",
    "**TODO** Write down your best solution in terms of Canny edge detection parameters, parameters for `hough_line_peaks`, search angle resolution, possibly morphological operations."
   ]
  },
  {
   "cell_type": "markdown",
   "metadata": {},
   "source": [
    "## Second order approaches\n",
    "\n",
    "### Laplacian operator\n",
    "\n",
    "This is simply an approximation to the second derivative (change of change) of the image. Here we just show results with no experimentation because the Laplacian filter on it's own does not work very well for edge detection.\n"
   ]
  },
  {
   "cell_type": "code",
   "execution_count": null,
   "metadata": {},
   "outputs": [],
   "source": [
    "# Load and normalize the neuroblastoma image\n",
    "image_file = os.path.join(path_to_images, 'neuroblastoma_5_orig_small.jpg')\n",
    "img = io.imread(image_file)\n",
    "img = img/np.max(img) # normalize the image to [0,1]\n",
    "\n",
    "edges_laplace = laplace(img, ksize=5)\n",
    "\n",
    "\n",
    "fig, axes = plt.subplots(1, 2, figsize=(14, 7))\n",
    "axes[0].imshow(img, cmap='gray')\n",
    "axes[0].set_title('Original Image')\n",
    "axes[0].set_xlim((200,300))\n",
    "axes[0].set_ylim((100,200))\n",
    "axes[1].imshow(edges_laplace, cmap='gray')\n",
    "axes[1].set_title('Laplace operator result')\n",
    "axes[1].set_xlim((200,300))\n",
    "axes[1].set_ylim((100,200))\n",
    "\n",
    "\n",
    "plt.show()"
   ]
  },
  {
   "cell_type": "markdown",
   "metadata": {},
   "source": [
    "As you can see, the results are very noisy and not usable directly."
   ]
  },
  {
   "cell_type": "markdown",
   "metadata": {},
   "source": [
    "### Laplacian of Gaussian (LoG)\n",
    "\n",
    "This operator, also called Marr-Hildreth or Mexican Hat operator (due to its shape in 3D) combines Gaussian smoothing and the Laplace operator.\n",
    "\n",
    "Open and read the doc:\n",
    "- <https://scikit-image.org/docs/stable/api/skimage.feature.html#skimage.feature.blob_log>"
   ]
  },
  {
   "cell_type": "code",
   "execution_count": null,
   "metadata": {},
   "outputs": [],
   "source": [
    "\"\"\"\n",
    "LoG for blob detection in neuroblastoma image\n",
    "\"\"\"\n",
    "\n",
    "# Load and normalize the neuroblastoma image\n",
    "image_file = os.path.join(path_to_images, 'neuroblastoma_5_orig_small.jpg')\n",
    "img = io.imread(image_file)\n",
    "img = img/np.max(img) # normalize the image to [0,1]\n",
    "print(f'Image has shape {img.shape}')\n",
    "\n",
    "# Define the range of blob sizes to detect\n",
    "min_sigma = 20\n",
    "max_sigma = 50\n",
    "\n",
    "# Perform blob detection using LoG\n",
    "blobs = blob_log(img, min_sigma=min_sigma, max_sigma=max_sigma, threshold_rel=0.2, overlap=0.7)\n",
    "n_blobs = blobs.shape[0]\n",
    "print(f'Detected {n_blobs} blobs')\n",
    "\n",
    "# Display the detected blobs\n",
    "cm=plt.cm.jet # get a colormap\n",
    "fig, ax = plt.subplots()\n",
    "ax.imshow(img)\n",
    "\n",
    "for i, blob in enumerate(blobs):\n",
    "    y, x, radius = blob\n",
    "    circle = plt.Circle((x, y), radius, color=cm(i/(n_blobs-1)), fill=False)\n",
    "    ax.add_patch(circle)\n",
    "\n",
    "plt.title(f'Detected {n_blobs} Blobs')\n",
    "plt.axis('off')\n",
    "plt.show()\n"
   ]
  },
  {
   "cell_type": "markdown",
   "metadata": {},
   "source": [
    "**TODO** try to optimize the parameters of the LoG blob detector - including `min_sigma` and `max_sigma`, `threshold_rel`, and `overlap`.\n",
    "\n",
    "Can you get close to your estimate of the ground truth of the number of cells?"
   ]
  },
  {
   "cell_type": "markdown",
   "metadata": {},
   "source": [
    "# BONUS Material\n",
    "\n",
    "Only do this if you have time\n",
    "\n",
    "## Approximating the LoG by a Difference of Gaussian\n",
    "\n",
    "We can approximage LoG by a first-order operator, the DoG. In skimage this is in `filters.difference_of_gaussians`\n",
    "\n",
    "-<https://scikit-image.org/docs/stable/api/skimage.filters.html#skimage.filters.difference_of_gaussians>"
   ]
  },
  {
   "cell_type": "code",
   "execution_count": null,
   "metadata": {},
   "outputs": [],
   "source": [
    "\"\"\"\n",
    "DoG approximation to the LoG\n",
    "\"\"\"\n",
    "\n",
    "from skimage.filters import difference_of_gaussians\n",
    "\n",
    "# Load and normalize the neuroblastoma image\n",
    "image_file = os.path.join(path_to_images, 'neuroblastoma_5_orig_small.jpg')\n",
    "img = io.imread(image_file)\n",
    "img = img/np.max(img) # normalize the image to [0,1]\n",
    "print(f'Image has shape {img.shape}')\n",
    "\n",
    "filtered_image = difference_of_gaussians(img, low_sigma=3, high_sigma=10)\n",
    "\n",
    "fig, axes = plt.subplots(1, 2, figsize=(14, 7))\n",
    "axes[0].imshow(img, cmap='gray')\n",
    "axes[0].set_title('Original Image')\n",
    "axes[0].set_xlim((200,300))\n",
    "axes[0].set_ylim((100,200))\n",
    "axes[1].imshow(filtered_image, cmap='jet')\n",
    "axes[1].set_title('DoG operator result')\n",
    "axes[1].set_xlim((200,300))\n",
    "axes[1].set_ylim((100,200))\n"
   ]
  }
 ],
 "metadata": {
  "kernelspec": {
   "display_name": "Python 3",
   "language": "python",
   "name": "python3"
  },
  "language_info": {
   "codemirror_mode": {
    "name": "ipython",
    "version": 3
   },
   "file_extension": ".py",
   "mimetype": "text/x-python",
   "name": "python",
   "nbconvert_exporter": "python",
   "pygments_lexer": "ipython3",
   "version": "3.11.8"
  }
 },
 "nbformat": 4,
 "nbformat_minor": 2
}
