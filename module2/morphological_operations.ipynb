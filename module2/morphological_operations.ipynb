{
 "cells": [
  {
   "cell_type": "markdown",
   "metadata": {},
   "source": [
    "# Morphological operations\n",
    "\n",
    "This part of the course is about operations to analyse shapes and form of objects.\n",
    "\n",
    "Run the code making sure you understand the syntax. Complete the parts marked **TODO** either in the text or in the code."
   ]
  },
  {
   "cell_type": "markdown",
   "metadata": {},
   "source": [
    "## Setup\n",
    "\n",
    "First, we need to import some packages so that their functions are available to us."
   ]
  },
  {
   "cell_type": "code",
   "execution_count": null,
   "metadata": {},
   "outputs": [],
   "source": [
    "import os                       # operating system operations like file paths etc\n",
    "import numpy as np              # multidimensional arrays, linear algebra\n",
    "from skimage import morphology  # morphological operations\n",
    "from skimage import io          # to load and save data\n",
    "from skimage import color       # color conversion utilities\n",
    "from skimage.util import invert   # invert an image (if binary, black->white, white->black)\n",
    "from skimage import img_as_ubyte # Convert an image to 8-bits\n",
    "from skimage.filters import threshold_otsu # Otsu's thresholding method\n",
    "import matplotlib.pyplot as plt # plotting\n",
    "\n",
    "\n",
    "path_to_images= './data'    # Local: where the images are relative to this notebook\n",
    "#path_to_images= os.path.join('Module2','data')    # Nuvolos: where the images are relative to this notebook"
   ]
  },
  {
   "cell_type": "markdown",
   "metadata": {},
   "source": [
    "## Data loading and exploration\n",
    "\n",
    "The data for this notebook is from the [Munich AML Morphology Dataset](https://www.cancerimagingarchive.net/collection/aml-cytomorphology_lmu/), which consists of single-cell images taken from blood of patients with Acute Myeloid Leukemia at the Münich University Hospital, using a digital microscope. Here, we're using an image of a basophil, a type of white blood cell (leukocyte).\n",
    "\n",
    "So, let's load the image and look at it."
   ]
  },
  {
   "cell_type": "code",
   "execution_count": null,
   "metadata": {},
   "outputs": [],
   "source": [
    "# Load the Basophil image\n",
    "image_file = os.path.join(path_to_images, 'BAS_0001.tiff')\n",
    "img = io.imread(image_file)\n",
    "#print(img.shape)\n",
    "img = np.delete(img,3,2) # remove the last channel (alpha)\n",
    "#print(img.shape)\n",
    "\n",
    "# Display the image\n",
    "plt.figure()\n",
    "io.imshow(img)\n",
    "plt.title('Original image')"
   ]
  },
  {
   "cell_type": "markdown",
   "metadata": {},
   "source": [
    "## Image preprocessing\n",
    "\n",
    "Morphological operations typically work on binary data (zeros = black pixels and ones = white pixels ), but here we have a color image. So let's convert to grayscale first, and then binarize the image."
   ]
  },
  {
   "cell_type": "code",
   "execution_count": null,
   "metadata": {},
   "outputs": [],
   "source": [
    "\n",
    "# Convert image to grayscale\n",
    "gray_img = color.rgb2gray(img)\n",
    "gray_img = invert(gray_img) # invert the image so that the cells are white\n",
    "io.imshow(gray_img)\n",
    "io.show()\n",
    "\n",
    "# Binarize the grayscale image with a threshold\n",
    "threshold = 0.4          # TODO Experiment with this your desired threshold value\n",
    "binary_img = gray_img > threshold\n",
    "io.imshow(binary_img)\n",
    "io.show()\n",
    "\n",
    "# TODO try Otsu thresholding\n",
    "\n"
   ]
  },
  {
   "cell_type": "markdown",
   "metadata": {},
   "source": [
    "**TODO**: Experiment with changing the threshold between 0 and 1, and observe the results. What happens with a threshold at 0.3? 0.4? 0.5? 0.6 ?\n",
    "\n",
    "As you can see, it's not trivial to get the right threshold that shows only the basophil we are interested in, in the center of the image.\n",
    "\n",
    "**TODO**: use Otsu thresholding from the scikit-image `filters` module, read the documentation [here](https://scikit-image.org/docs/stable/api/skimage.filters.html#skimage.filters.threshold_otsu)"
   ]
  },
  {
   "cell_type": "markdown",
   "metadata": {},
   "source": [
    "## Structuring Elements\n",
    "\n",
    "Let's examine how to create and display structuring elements.\n",
    "The doc for this part is found in [skimage.morphology](https://scikit-image.org/docs/stable/api/skimage.morphology.html). Note that skimage calls SEs \"footprints\"."
   ]
  },
  {
   "cell_type": "code",
   "execution_count": null,
   "metadata": {},
   "outputs": [],
   "source": [
    "# Let's  create a 3x3 square structuring element (SE). The set of the SE are the pixels that are 1.\n",
    "se_size=3\n",
    "my_se=morphology.square(se_size)\n",
    "print(f'Created structuring element of shape {my_se.shape}') # SEs are just numpy arrays\n",
    "\n",
    "# Display SE with pixel boundaries\n",
    "plt.pcolormesh(my_se, edgecolors='gray', linewidth=2, vmin=0, vmax=1,cmap='gray')\n",
    "plt.xticks(np.arange(0, my_se.shape[1]))\n",
    "plt.yticks(np.arange(0, my_se.shape[0]))\n",
    "ax = plt.gca()\n",
    "ax.set_aspect('equal')  # make image square\n",
    "ax.invert_yaxis()       # match numpy convention top left is (0,0)\n",
    "\n",
    "\n",
    "\n",
    "\n"
   ]
  },
  {
   "cell_type": "markdown",
   "metadata": {},
   "source": [
    "**TODO** create a disk SE (morphology.disk) and display it. Copy-paste the code from above and modify it."
   ]
  },
  {
   "cell_type": "markdown",
   "metadata": {},
   "source": [
    "## Erosion\n",
    "\n",
    "We have a binary image, we have a structuring element, let's try eroding the image!\n"
   ]
  },
  {
   "cell_type": "code",
   "execution_count": null,
   "metadata": {},
   "outputs": [],
   "source": [
    "# create a square 3x3 SE\n",
    "se_size=3\n",
    "my_se=morphology.square(se_size)\n",
    "print('SE')\n",
    "print(my_se)\n",
    "\n",
    "\n",
    "# Erode the binary image with the SE\n",
    "eroded_img = morphology.binary_erosion(binary_img, footprint=my_se)\n",
    "\n",
    "# look at the result\n",
    "fig, (ax1, ax2) = plt.subplots(1, 2, figsize=(10,4))\n",
    "ax1.imshow(binary_img, cmap='gray')\n",
    "ax1.set_title('Original')\n",
    "ax1.axis('off')\n",
    "\n",
    "ax2.imshow(eroded_img, cmap='gray')\n",
    "ax2.set_title('Eroded')\n",
    "ax2.axis('off')\n",
    "\n",
    "plt.show()\n",
    "\n",
    "print(f'The eroded image has {np.count_nonzero(eroded_img)} white pixels')\n",
    "\n",
    "\n"
   ]
  },
  {
   "cell_type": "markdown",
   "metadata": {},
   "source": [
    "**TODO**: experiment with various sizes of the structuring element (3,4,5,6...), as well as shapes. What works best to remove small blobs while preserving most of the basophil?\n",
    "\n",
    "**TODO**: go back to your threshold choice. What is your optimal combination of threshold, SE shape, and SE size to recover most of the basophil, and the basophil alone? "
   ]
  },
  {
   "cell_type": "markdown",
   "metadata": {},
   "source": [
    "## Dilation\n",
    "\n",
    "We have seen that you can remove unwanted blobs with erosion. Now let's try dilation."
   ]
  },
  {
   "cell_type": "code",
   "execution_count": null,
   "metadata": {},
   "outputs": [],
   "source": [
    "# create a square 3x3 SE\n",
    "se_size=3\n",
    "my_se=morphology.square(se_size)\n",
    "print('SE')\n",
    "print(my_se)\n",
    "\n",
    "\n",
    "# Dilate the binary image with the SE\n",
    "dilated_img = morphology.binary_dilation(binary_img, footprint=my_se)\n",
    "\n",
    "# look at the result\n",
    "fig, (ax1, ax2) = plt.subplots(1, 2, figsize=(10,4))\n",
    "ax1.imshow(binary_img, cmap='gray')\n",
    "ax1.set_title('Original')\n",
    "ax1.axis('off')\n",
    "\n",
    "ax2.imshow(dilated_img, cmap='gray')\n",
    "ax2.set_title('Dilated')\n",
    "ax2.axis('off')\n",
    "\n",
    "plt.show()\n",
    "\n",
    "print(f'The dilated image has {np.count_nonzero(dilated_img)} white pixels')\n"
   ]
  },
  {
   "cell_type": "markdown",
   "metadata": {},
   "source": [
    "**TODO**: experiment with various sizes of the structuring element (3,4,5,6...), as well as shapes. What works best to close the holes in the basophil?\n",
    "\n",
    "**TODO**: go back to your threshold choice. What is your optimal combination of threshold, SE shape, and SE size to recover most of the basophil, and the basophil alone? \n",
    "\n",
    "Now, we can try to estimate the size of the basophil. We can count the number of white pixels (non-zero) as already implemented in the code above. \n",
    "\n",
    "**TODO** Assuming the basophil is circular, that all pixels are part of the basophil, and using the formula `A = $\\pi r^2$', where A is the area or surface, do you have enough data to estimate the diameter of the basophil (typically around 15 $\\mu m$) ? Why or why not?"
   ]
  },
  {
   "cell_type": "markdown",
   "metadata": {},
   "source": [
    "## Opening\n",
    "Opening allows us to remove small objects from the foreground while preserving the size of the object of interest."
   ]
  },
  {
   "cell_type": "code",
   "execution_count": null,
   "metadata": {},
   "outputs": [],
   "source": [
    "# create a square 3x3 SE\n",
    "se_size=3\n",
    "my_se=morphology.square(se_size)\n",
    "print('SE')\n",
    "print(my_se)\n",
    "\n",
    "\n",
    "# Open the binary image with the SE\n",
    "opened_img = morphology.binary_opening(binary_img, footprint=my_se)\n",
    "\n",
    "# look at the result\n",
    "fig, (ax1, ax2) = plt.subplots(1, 2, figsize=(10,4))\n",
    "ax1.imshow(binary_img, cmap='gray')\n",
    "ax1.set_title('Original')\n",
    "ax1.axis('off')\n",
    "\n",
    "ax2.imshow(opened_img, cmap='gray')\n",
    "ax2.set_title('Opened')\n",
    "ax2.axis('off')\n",
    "\n",
    "plt.show()\n",
    "\n",
    "print(f'The Opened image has {np.count_nonzero(opened_img)} white pixels')"
   ]
  },
  {
   "cell_type": "markdown",
   "metadata": {},
   "source": [
    "**TODO**: experiment with various sizes of the structuring element (3,4,5,6...10), as well as shapes (disk). What works best to remove spurious parts of basophil and 'repair' the cell?\n",
    "\n",
    "**TODO**: go back to your threshold choice. What is your optimal combination of threshold, SE shape, and SE size to recover most of the basophil, and the basophil alone? \n",
    "\n",
    "**TODO** Compare the results with those from the erosion operator, qualitatively and quantitatively (number of white pixels). What do you notice?\n"
   ]
  },
  {
   "cell_type": "markdown",
   "metadata": {},
   "source": [
    "## Closing\n",
    "\n",
    "Closing enables us to close small holes that we don't want in foreground objects"
   ]
  },
  {
   "cell_type": "code",
   "execution_count": null,
   "metadata": {},
   "outputs": [],
   "source": [
    "# create a square 3x3 SE\n",
    "se_size=3\n",
    "my_se=morphology.square(se_size)\n",
    "print('SE')\n",
    "print(my_se)\n",
    "\n",
    "\n",
    "# Open the binary image with the SE\n",
    "closed_img = morphology.binary_closing(binary_img, footprint=my_se)\n",
    "\n",
    "# look at the result\n",
    "fig, (ax1, ax2) = plt.subplots(1, 2, figsize=(10,4))\n",
    "ax1.imshow(binary_img, cmap='gray')\n",
    "ax1.set_title('Original')\n",
    "ax1.axis('off')\n",
    "\n",
    "ax2.imshow(closed_img, cmap='gray')\n",
    "ax2.set_title('Closed')\n",
    "ax2.axis('off')\n",
    "\n",
    "plt.show()\n",
    "\n",
    "print(f'The Closed image has {np.count_nonzero(closed_img)} white pixels')"
   ]
  },
  {
   "cell_type": "markdown",
   "metadata": {},
   "source": [
    "**TODO**: experiment with various sizes of the structuring element (3,4,5,6...10), as well as shapes (disk). What works best to close holes in the basophil?\n",
    "\n",
    "**TODO**: go back to your threshold choice. What is your optimal combination of threshold, SE shape, and SE size to recover most of the basophil, and the basophil alone? \n",
    "\n",
    "**TODO** Compare the results with those from the dilation operator, qualitatively and quantitatively (number of white pixels). What do you notice?\n"
   ]
  },
  {
   "cell_type": "markdown",
   "metadata": {},
   "source": [
    "## Top hat transform\n",
    "\n",
    "We can use the top hat transform to apply an SE that does NOT match the structures we want to keep. For example, we could want to recover the other cells rather than the big basophil in the center. We know that the basophil will not match a small SE. So let's use a white top hat (WTH) to remove it."
   ]
  },
  {
   "cell_type": "code",
   "execution_count": null,
   "metadata": {},
   "outputs": [],
   "source": [
    "# Binarize the grayscale image with a threshold, this time with a lower threshold to keep more of the cells apart from the basophil\n",
    "threshold = 0.2        # Experiment with this your desired threshold value\n",
    "binary_img_TH = gray_img > threshold\n",
    "\n",
    "\n",
    "# create a disk size 10 SE\n",
    "se_size=10\n",
    "y_se=morphology.disk(se_size)\n",
    "#print('SE')\n",
    "#print(my_se)\n",
    "\n",
    "\n",
    "# Open the binary image with the SE\n",
    "WTH_img = morphology.white_tophat(binary_img_TH, footprint=my_se)\n",
    "\n",
    "# look at the result\n",
    "fig, (ax1, ax2) = plt.subplots(1, 2, figsize=(10,4))\n",
    "ax1.imshow(binary_img_TH, cmap='gray')\n",
    "ax1.set_title('Original')\n",
    "ax1.axis('off')\n",
    "\n",
    "ax2.imshow(WTH_img, cmap='gray')\n",
    "ax2.set_title('WTH')\n",
    "ax2.axis('off')\n",
    "\n",
    "plt.show()\n",
    "\n",
    "print(f'The WTH image has {np.count_nonzero(WTH_img)} white pixels')"
   ]
  },
  {
   "cell_type": "markdown",
   "metadata": {},
   "source": [
    "**TODO**: experiment with various sizes of the structuring element (3,4,5,6...10), as well as shapes and threshold. What works best to remove the basophil ? \n"
   ]
  },
  {
   "cell_type": "markdown",
   "metadata": {},
   "source": [
    "## Dealing with grayscale images\n",
    "\n",
    "So far we've only dealt with binary images (black and white, all pixels 0 or 1), by thresholding grayscale images. But you can also apply morphological operators to grayscale images (e.g. that have pixel values from 0 to 255 for an 8-bit image). This requires a small change in the definition of the opening and closing operations, but the principles stay very much the same.\n",
    "\n",
    "Here we show just the outline, but not that in practical implementation there will not be explicit thresholding at each level, which is inefficient computationally. \n",
    "In scikit-image, you can just use directly the grayscale equivalent functions such as `closing()` instead of `binary_closing()` etc.\n",
    "\n",
    "Principle:\n",
    "1. Apply multiple thresholds to obtain a level set for each threshold\n",
    "2. Use binary morphological operations on each level set\n",
    "3. Reconstruct result via maximum operation\n"
   ]
  },
  {
   "cell_type": "code",
   "execution_count": null,
   "metadata": {},
   "outputs": [],
   "source": [
    "# create a square 6x6 SE\n",
    "se_size=6\n",
    "my_se=morphology.square(se_size)\n",
    "\n",
    "\n",
    "# Convert the grayscale image to 8-bits to save time\n",
    "# Assuming you have a grayscale image stored in the variable 'gray_img'\n",
    "gray_img_8bits = img_as_ubyte(gray_img)\n",
    "io.imshow(gray_img_8bits)\n",
    "io.show()\n",
    "\n",
    "# list all possible thresholds in the grayscale image\n",
    "thresholds = np.unique(gray_img_8bits)\n",
    "print(f'There are {len(thresholds)} distinct thresholds')\n",
    "\n",
    "# For illustration let's pick the only 5 thresholds across the range, defined by percentiles of thresholds distribution\n",
    "percentiles = [5, 25, 50, 75, 95]\n",
    "selected_thresholds = np.round(np.percentile(thresholds, percentiles))\n",
    "print(f'We will use these thresholds to build level sets: {selected_thresholds}')\n",
    "\n",
    "# Run over all thresholds and compute level sets, then apply binary morphological closing\n",
    "for k, threshold in enumerate(selected_thresholds):\n",
    "    # threshold here to obtain the level set\n",
    "    this_level_set = gray_img_8bits >= threshold\n",
    "    \n",
    "    # Close the binary image with the SE\n",
    "    this_closed_img = morphology.binary_closing(this_level_set, footprint=my_se)\n",
    "\n",
    "    fig, (ax1,ax2) = plt.subplots(1,2,figsize=(6, 5))\n",
    "    ax1.imshow(this_level_set, cmap='gray')\n",
    "    ax1.set_title(f'Threshold {threshold}')\n",
    "    ax1.axis('off')\n",
    "    ax2.imshow(this_closed_img, cmap='gray')\n",
    "    ax2.set_title('Closed')\n",
    "    ax2.axis('off')\n",
    "plt.show()\n"
   ]
  },
  {
   "cell_type": "markdown",
   "metadata": {},
   "source": []
  },
  {
   "cell_type": "markdown",
   "metadata": {},
   "source": [
    "## Connected components analysis\n",
    "\n",
    "Once your image is reasonably processed, you may want to know how many \"distinct\" or \"separate\" foreground objects your image has.\n",
    "\n",
    "For demonstration purposes, let's take an easier image than the one we've been using so far."
   ]
  },
  {
   "cell_type": "code",
   "execution_count": null,
   "metadata": {},
   "outputs": [],
   "source": [
    "# Load and normalize the neuroblastoma image\n",
    "image_file = os.path.join(path_to_images, 'neuroblastoma_5_orig_small.jpg')\n",
    "img = io.imread(image_file)\n",
    "img = img/np.max(img) # normalize the image to [0,1]\n",
    "\n",
    "# threshold the image\n",
    "threshold = 0.15\n",
    "binary_img = img > threshold\n",
    "\n",
    "# detect connected components\n",
    "labeled_img, num_labels = morphology.label(binary_img, background=0, return_num=True, connectivity=1)\n",
    "print(f'Found {num_labels} connected components')\n",
    "\n",
    "fig, (ax1,ax2,ax3) = plt.subplots(1,3,figsize=(10, 7))\n",
    "\n",
    "ax1.imshow(img, cmap='gray')\n",
    "ax1.set_title(f'Original')\n",
    "ax1.axis('off')\n",
    "ax2.imshow(binary_img, cmap='gray')\n",
    "ax2.set_title('Thresholded')\n",
    "ax2.axis('off')\n",
    "ax3.imshow(labeled_img, cmap='rainbow')\n",
    "ax3.set_title('Labelled')\n",
    "ax3.axis('off')"
   ]
  },
  {
   "cell_type": "markdown",
   "metadata": {},
   "source": [
    "**TODO** Experiment with the threshold. How does the number of connected components change? What is the actual answer according to you? Can you improve upon manual thresholding with Otsu thresholding? "
   ]
  },
  {
   "cell_type": "markdown",
   "metadata": {},
   "source": [
    "## Putting it all together - brain white matter volumetry\n",
    "\n",
    "Now you have all the tools you need to apply to another image. Here we'll look at one 2D slice of a 3D brain T1-weighted (T1w) Magnetic Resonance Image. These are used routinely in clinical settings for many brain diseases such as Multiple Sclerosis, Alzheimer disease, etc. In T1w images, cerebro-spinal fluid is dark, gray matter is a little bit brighter, white matter is brighter, and fat is even brighter.\n",
    "\n",
    "In this exercise, we want to quantify the volume of the white matter (WM) in one slice, assuming that each voxel is 1 mm x 1 mm x 1 mm. So each pixel is 1mm x 1 mm, with slice thickness 1mm. If you have 5 voxels of WM, the WM volume is 5 ml."
   ]
  },
  {
   "cell_type": "code",
   "execution_count": null,
   "metadata": {},
   "outputs": [],
   "source": [
    "# Load brain image\n",
    "image_file_brain = os.path.join(path_to_images, 'MRIt1w.png')\n",
    "img_b = io.imread(image_file_brain)\n",
    "img_b = np.delete(img_b,3,2) # remove the last channel (alpha)\n",
    "img_b = color.rgb2gray(img_b) # convert to grayscale\n",
    "\n",
    "\n",
    "# threshold to get only white matter\n",
    "threshold = 0.25         # Experiment with this your desired threshold value\n",
    "binary_img_b = np.array(img_b > threshold,dtype=np.float32)\n",
    "print(binary_img_b.shape)\n",
    "print(binary_img_b.shape)\n",
    "\n",
    "fig, (ax1, ax2) = plt.subplots(1, 2, figsize=(10,4))\n",
    "ax1.imshow(img_b, cmap='gray')\n",
    "ax1.set_title('Original')\n",
    "\n",
    "ax2.imshow(binary_img_b,cmap='gray')\n",
    "ax2.set_title('Tresholded white matter')\n",
    "\n"
   ]
  },
  {
   "cell_type": "markdown",
   "metadata": {},
   "source": [
    "Now we have approximately only the white matter, but we also have a bright \"ring\" around the brain. This is a fat layer within the skull that is hyper-intense in T1-weighted MRI images. Using morphological operations, how could we get rid of it?\n",
    "\n",
    "**TODO** Implement your solution below."
   ]
  },
  {
   "cell_type": "code",
   "execution_count": null,
   "metadata": {},
   "outputs": [],
   "source": [
    "# TODO your code goes here"
   ]
  },
  {
   "cell_type": "markdown",
   "metadata": {},
   "source": [
    "Assuming you have successfully gotten rid of the 'fat ring', Try to compute the volume of the white matter in ml, then print it. Remember, 1 white pixel = 1 mm.\n",
    "\n",
    "**TODO** Implement your solution below"
   ]
  },
  {
   "cell_type": "code",
   "execution_count": null,
   "metadata": {},
   "outputs": [],
   "source": [
    "# TODO your code here"
   ]
  }
 ],
 "metadata": {
  "kernelspec": {
   "display_name": "Python 3",
   "language": "python",
   "name": "python3"
  },
  "language_info": {
   "codemirror_mode": {
    "name": "ipython",
    "version": 3
   },
   "file_extension": ".py",
   "mimetype": "text/x-python",
   "name": "python",
   "nbconvert_exporter": "python",
   "pygments_lexer": "ipython3",
   "version": "3.11.8"
  }
 },
 "nbformat": 4,
 "nbformat_minor": 2
}
