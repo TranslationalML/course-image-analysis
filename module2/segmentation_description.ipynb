{
 "cells": [
  {
   "cell_type": "markdown",
   "metadata": {},
   "source": [
    "# Segmenting and describing regions\n",
    "\n",
    "This part of the course is about separating specific regions of interest in a image from the background automatically, and extracting descriptors from them for downstream analysis.\n",
    "\n",
    "Run the code making sure you understand the syntax. Complete the parts marked **TODO** either in the text or in the code."
   ]
  },
  {
   "cell_type": "markdown",
   "metadata": {},
   "source": [
    "## Setup\n",
    "\n",
    "First, we need to import some packages so that their functions are available to us."
   ]
  },
  {
   "cell_type": "code",
   "execution_count": null,
   "metadata": {},
   "outputs": [],
   "source": [
    "import os                       # operating system operations like file paths etc\n",
    "import numpy as np              # multidimensional arrays, linear algebra\n",
    "from skimage import morphology  # morphological operations\n",
    "from skimage import io          # to load and save data\n",
    "from skimage import color       # color conversion utilities\n",
    "from skimage.util import invert   # invert an image (if binary, black->white, white->black)\n",
    "from skimage import img_as_ubyte # Convert an image to 8-bits\n",
    "from skimage.filters import threshold_otsu # Otsu's thresholding method\n",
    "import matplotlib.pyplot as plt # plotting\n",
    "\n",
    "\n",
    "path_to_images= './data'    # Local: where the images are relative to this notebook\n",
    "#path_to_images= os.path.join('Module2','data')    # Nuvolos: where the images are relative to this notebook"
   ]
  }
 ],
 "metadata": {
  "language_info": {
   "name": "python"
  }
 },
 "nbformat": 4,
 "nbformat_minor": 2
}
